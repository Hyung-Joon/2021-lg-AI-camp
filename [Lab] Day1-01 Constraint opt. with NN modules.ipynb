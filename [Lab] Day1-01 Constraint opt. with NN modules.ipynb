{
 "cells": [
  {
   "cell_type": "markdown",
   "id": "c45981f9",
   "metadata": {},
   "source": [
    "# Constrainted optimization with NN models\n",
    "\n",
    "The usage of `type 1` problems are prominent. However it is often true that without constraints on optimization varaibles $x$ that the optimal solution might be trivial.\n",
    "As an concrete example, let's consider the following optimization problem:\n",
    "$$ \\max_{x} x^2 $$\n",
    "\n",
    "We can visually inspect the solution of above optimization problem. Let's look around the following figure"
   ]
  },
  {
   "cell_type": "code",
   "execution_count": 2,
   "id": "f0e2fef7",
   "metadata": {},
   "outputs": [],
   "source": [
    "from functools import partial\n",
    "\n",
    "import torch\n",
    "import numpy as np\n",
    "import matplotlib.pyplot as plt\n",
    "from scipy.optimize import minimize\n",
    "\n",
    "from src.utils import generate_y\n",
    "from src.nn.MLP import MLP"
   ]
  },
  {
   "cell_type": "code",
   "execution_count": 3,
   "id": "d6b29b81",
   "metadata": {},
   "outputs": [
    {
     "data": {
      "image/png": "[encoded data removed]",
      "text/plain": [
       "<Figure size 432x288 with 1 Axes>"
      ]
     },
     "metadata": {
      "needs_background": "light"
     },
     "output_type": "display_data"
    }
   ],
   "source": [
    "xs = np.linspace(-10.0, 10.0, 1000)\n",
    "ys = xs ** 2\n",
    "fig, ax = plt.subplots(1,1)\n",
    "ax.grid()\n",
    "_ = ax.plot(xs, ys)"
   ]
  },
  {
   "cell_type": "markdown",
   "id": "7e7af5a6",
   "metadata": {},
   "source": [
    "As you can notice, as we push the solution $x$ toward $\\infty$ or $-\\infty$, the objective function $x^2$ increase. We call this scenarios as 'the problem is unbounded'. Even in the practical setup, we will confront such cases easily. Moreover to make the optimization problem 'practically' useful, we can consider the constrain on to the optimization problem. We firstly consider the following type of constraint optimziation problem."
   ]
  },
  {
   "cell_type": "markdown",
   "id": "696f3218",
   "metadata": {},
   "source": [
    "### Solve optimization problem with box constraints\n",
    "\n",
    "$$\n",
    "\\begin{aligned}\n",
    " \\min_{x} &\\, f(x) \\\\\n",
    " \\text{s.t.} &\\, x_{min} \\leq x \\leq x_{max} \\\\\n",
    "\\end{aligned}\n",
    "$$\n",
    "\n",
    "This type of optimization problem is to handle the box constraint on optimization variable $x$. The $\\text{s.t.}$ is abbreviation of '**s**uch **t**hat'.\n",
    "\n",
    "#### Box constraint\n",
    "\n",
    "$$x_{min} \\leq x \\leq x_{max}$$\n",
    "\n",
    "The box constraint indicates that the solution of optmization problem $x^*$ must be larger or equal to $x_{min}$ and smaller or equal to $x_{max}$. The box constraint is a special case of general constraints. Mathemacically to solve the optimziation problems, either the box constraint and general linear/non linear constraints can be handled in the same manner. However most of the off-the-shelf solvers explictly consider the box constrains as a different arguments from the other constraints. \n",
    "\n",
    "> For instance, `scipy` solvers consider the box constrains as `bounds`.\n",
    "\n",
    "For now, let's investigate the box constraint first and reserve some room for the general constraint. \n",
    "\n",
    "## `scipy.optimize` pacakge\n",
    "\n",
    "`scipy.optimize` is a package that implements various types of optimziation solvers. Most importantly, they offer nice python interface of the solvers so that you can setup your own optmization problem with few lines of codes. We will also solve the optimization problems with a variant of QP solver of this package.\n",
    "\n",
    "Especially, `scipy.optmize.minize` function is powerful in practice. you can 'some-how-magically' optimize your own function. Even in the case your function is not analytically differntiable.\n",
    "\n",
    "> In such case, `scipy.optmize.minize` employs numerical methods to estimate the jacobian and hessian. As a cost of emplyoing numerical methods, the optmization procedure will be slower.\n",
    "\n",
    "### Interface of `scipy.optimize.minimize`\n",
    "\n",
    "`scipy.optimize.minimize` majorly requires following arguments:\n",
    "\n",
    "1. `fun`: the objective function that you want to optmize\n",
    "2. `x0`: the initial solution. You can set arbitarily unless it doesn't violate constraints\n",
    "3. `jac`: (optional) the method for computing the jacobian of the objective function\n",
    "4. `hessian`: (optional) the method for computing the hessian of the objective function\n",
    "5. `bounds`: (optional) box constraints\n",
    "6. `constraints`: (optional) linear/non-linear constraints\n",
    "\n",
    "when `jac` and `hessian` is not specified, the `scipy.optmize.minize` function estimate the jacobian and hessian of the objective function numerically.\n",
    "\n",
    "## Implementing `fun`, `jac`, `hessian`\n",
    "\n",
    "Our primiary interest is to bind the `torch` module and `scipy.optimize.minimize`. Since pytorch is automatic differentiation tool, we can compute the `jac` and `hessian` efficiently."
   ]
  },
  {
   "cell_type": "code",
   "execution_count": 4,
   "id": "f3a6e7cd",
   "metadata": {},
   "outputs": [],
   "source": [
    "def objective(x, model):\n",
    "    # Note that we will not use the pytorch's automatic differentiation functionality\n",
    "    # while computing objective\n",
    "    with torch.no_grad(): \n",
    "        torch_x = torch.from_numpy(x).view(-1,1).float()\n",
    "        y = model(torch_x)\n",
    "        y = y.sum().numpy()\n",
    "    return y\n",
    "\n",
    "def jac(x, model):\n",
    "    torch_x = torch.from_numpy(x).view(-1,1).float()\n",
    "    jac = torch.autograd.functional.jacobian(model, torch_x).numpy()\n",
    "    return jac"
   ]
  },
  {
   "cell_type": "code",
   "execution_count": 5,
   "id": "f99b2d2b",
   "metadata": {},
   "outputs": [
    {
     "data": {
      "text/plain": [
       "<All keys matched successfully>"
      ]
     },
     "execution_count": 5,
     "metadata": {},
     "output_type": "execute_result"
    }
   ],
   "source": [
    "m = MLP(1, 1, num_neurons=[128, 128])\n",
    "m.load_state_dict(torch.load('./model.pt'))"
   ]
  },
  {
   "cell_type": "code",
   "execution_count": 8,
   "id": "58926658",
   "metadata": {},
   "outputs": [],
   "source": [
    "lb, ub = -3.0, +3.0 # declare lower and upper bound of optmization variable\n",
    "\n",
    "x_init = np.random.uniform(lb, ub) \n",
    "x0 = np.ones(1) * x_init\n",
    "x0_tensor = torch.ones(1,1) * x_init\n",
    "y0 = m(x0_tensor).detach()"
   ]
  },
  {
   "cell_type": "code",
   "execution_count": 9,
   "id": "df938011",
   "metadata": {
    "pycharm": {
     "name": "#%%\n"
    }
   },
   "outputs": [],
   "source": [
    "b = (lb, ub)\n",
    "bnds = (b,)\n",
    "\n",
    "soln_nn = minimize(partial(objective, model=m), \n",
    "                   x0, \n",
    "                   method='SLSQP', \n",
    "                   bounds=bnds, \n",
    "                   jac=partial(jac, model=m))\n",
    "\n",
    "\n",
    "\n"
   ]
  }
 ],
 "metadata": {
  "kernelspec": {
   "display_name": "Python 3 (ipykernel)",
   "language": "python",
   "name": "python3"
  },
  "language_info": {
   "codemirror_mode": {
    "name": "ipython",
    "version": 3
   },
   "file_extension": ".py",
   "mimetype": "text/x-python",
   "name": "python",
   "nbconvert_exporter": "python",
   "pygments_lexer": "ipython3",
   "version": "3.8.11"
  }
 },
 "nbformat": 4,
 "nbformat_minor": 5
}