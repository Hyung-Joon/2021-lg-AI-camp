{
 "cells": [
  {
   "cell_type": "markdown",
   "id": "b282a5bb",
   "metadata": {},
   "source": [
    "# Unconstrainted optimization with NN models\n",
    "\n",
    "In this tutorial we will go over type 1 optimization problem which entails nn.Module rerpesented cost function and __no constarint__ at all. This type of problem is often written as follows:\n",
    "\n",
    "$$ \\min_{x} f_{\\theta}(x) $$\n",
    "we can find Type1 problems quite easily. For instance assuming you are the manager of some manufactoring facilities, then your primary objective would be to maximize the yield of the manufactoring process. In industrial grade of manufactoring process the model of process is often __unknown__. hence we may need to learn the model through your favorite differentiable models such as neural networks and perform the graident based optimization to find the (local) optimums that minimize (or maximize) the yield.\n",
    "\n",
    "### General problem solving tricks; Cast your problem into QP, approximately.\n",
    "\n",
    "As far as I know, Convex optimization is the most general class of optmization problems where we have algorithms that can solve the problem optimally. Qudartic progamming (QP) is a type of convex optimization problems which is well developed in the side of theory and computations. We will heavily utilize QPs to solve the optimziation problems that have dependency with `torch` models.\n",
    "\n",
    "Our general problem solving tricks are as follows:\n",
    "1. Construct the cost or constraint models from the data\n",
    "2. By utilizting `torch` automatic differentiation functionality, compute the jacobian or hessians of the moodels.\n",
    "3. solve (possibley many times) QP with the estimated jacobian and hessians.\n",
    "\n",
    "> It is noteworthy that even we locally cast the problem into QP, that doesn't mean our original problem is convex. Therefore, we cannot say that this approahces we will look over can find the global optimum."
   ]
  },
  {
   "cell_type": "code",
   "execution_count": 12,
   "id": "db169457",
   "metadata": {},
   "outputs": [],
   "source": [
    "import torch\n",
    "import numpy as np\n",
    "import matplotlib.pyplot as plt\n",
    "from torch.utils.data import TensorDataset, DataLoader\n",
    "\n",
    "from src.utils import generate_y\n",
    "from src.nn.MLP import MLP"
   ]
  },
  {
   "cell_type": "markdown",
   "id": "dd7d714d",
   "metadata": {},
   "source": [
    "## Generate training dataset\n"
   ]
  },
  {
   "cell_type": "code",
   "execution_count": 3,
   "id": "b419fe7d",
   "metadata": {},
   "outputs": [],
   "source": [
    "x_min, x_max = -4.0, 4.0\n",
    "\n",
    "xs_linspace = torch.linspace(-4, 4, 2000).view(-1, 1)\n",
    "ys_linspace = generate_y(xs_linspace)\n",
    "\n",
    "# samples to construct training dataset\n",
    "x_dist = torch.distributions.uniform.Uniform(-4.0, 4.0)\n",
    "xs = x_dist.sample(sample_shape=(500, 1))\n",
    "ys = generate_y(xs)"
   ]
  },
  {
   "cell_type": "code",
   "execution_count": 4,
   "id": "6378ebfd",
   "metadata": {},
   "outputs": [],
   "source": [
    "BS = 64 # Batch size\n",
    "ds = TensorDataset(xs, ys)\n",
    "loader = DataLoader(ds, batch_size=BS, shuffle=True)"
   ]
  },
  {
   "cell_type": "code",
   "execution_count": 6,
   "id": "7db87b81",
   "metadata": {},
   "outputs": [],
   "source": [
    "input_dim, output_dim = 1, 1\n",
    "m = MLP(input_dim, output_dim, num_neurons=[128, 128])\n",
    "mse_criteria = torch.nn.MSELoss()\n",
    "opt = torch.optim.Adam(m.parameters(), lr=1e-3)"
   ]
  },
  {
   "cell_type": "code",
   "execution_count": 7,
   "id": "65a6f1c0",
   "metadata": {},
   "outputs": [
    {
     "name": "stdout",
     "output_type": "stream",
     "text": [
      "500 0.02176450751721859\n",
      "1000 0.003090523649007082\n",
      "1500 0.0011741176713258028\n"
     ]
    }
   ],
   "source": [
    "n_update = 0\n",
    "print_every = 500\n",
    "epochs = 200\n",
    "for _ in range(epochs):\n",
    "    for x, y in loader:        \n",
    "        y_pred = m(x)\n",
    "        loss = mse_criteria(y_pred, y)\n",
    "        opt.zero_grad()\n",
    "        loss.backward()\n",
    "        opt.step()\n",
    "\n",
    "        n_update += 1\n",
    "        if n_update % print_every == 0:\n",
    "            print(n_update, loss.item())"
   ]
  },
  {
   "cell_type": "code",
   "execution_count": 8,
   "id": "92fe7949",
   "metadata": {},
   "outputs": [],
   "source": [
    "# save model for the later usages\n",
    "torch.save(m.state_dict(), './model.pt')"
   ]
  },
  {
   "cell_type": "markdown",
   "id": "e520c554",
   "metadata": {},
   "source": [
    "## Solve the unconstraint optimization problem\n",
    "\n",
    "Let's solve the unconstraint optimization problem with torch estmiated graidents and simple gradient descent method.\n"
   ]
  },
  {
   "cell_type": "code",
   "execution_count": 9,
   "id": "bf475a80",
   "metadata": {},
   "outputs": [],
   "source": [
    "def minimize_y(x_init, model, num_steps=15, step_size=1e-1):\n",
    "    def _grad(model, x):\n",
    "        return torch.autograd.functional.jacobian(model, x).squeeze()\n",
    "    \n",
    "    x = x_init\n",
    "    \n",
    "    xs = [x]\n",
    "    ys = [model(x)]\n",
    "    gs = [_grad(model, x)]\n",
    "    for _ in range(num_steps):\n",
    "        grad = _grad(model, x)\n",
    "        x = (x- step_size * grad).clone()\n",
    "        y = model(x)\n",
    "        \n",
    "        xs.append(x)\n",
    "        ys.append(y)\n",
    "        gs.append(grad)\n",
    "        \n",
    "    \n",
    "    xs = torch.stack(xs).detach().numpy()\n",
    "    ys = torch.stack(ys).detach().numpy()\n",
    "    gs = torch.stack(gs).detach().numpy()    \n",
    "    return xs, ys, gs"
   ]
  },
  {
   "cell_type": "code",
   "execution_count": 10,
   "id": "ab85920c",
   "metadata": {},
   "outputs": [],
   "source": [
    "x_min, x_max = -4.0, 4.0\n",
    "n_steps = 40\n",
    "\n",
    "x_init = torch.tensor(np.random.uniform(x_min, x_max, 1)).float()\n",
    "opt_xs, opt_ys, grad = minimize_y(x_init, m, n_steps)"
   ]
  },
  {
   "cell_type": "code",
   "execution_count": 11,
   "id": "e41bb8fc",
   "metadata": {},
   "outputs": [
    {
     "data": {
      "image/png": "[encoded data removed]",
      "text/plain": [
       "<Figure size 720x360 with 1 Axes>"
      ]
     },
     "metadata": {
      "needs_background": "light"
     },
     "output_type": "display_data"
    }
   ],
   "source": [
    "pred_ys = m(xs_linspace).detach()\n",
    "\n",
    "fig, axes = plt.subplots(1, 1, figsize=(10, 5))\n",
    "axes.grid()\n",
    "axes.plot(xs_linspace, ys_linspace, label='Ground truth')\n",
    "axes.plot(xs_linspace, pred_ys, label='Model prediction')\n",
    "\n",
    "axes.scatter(opt_xs[0], opt_ys[0], label='Opt start', \n",
    "             c='green', marker='*', s=100.0)\n",
    "axes.scatter(opt_xs[1:], opt_ys[1:], label='NN opt', c='green')\n",
    "_ = axes.legend()"
   ]
  },
  {
   "cell_type": "code",
   "execution_count": null,
   "id": "250a67a4",
   "metadata": {},
   "outputs": [],
   "source": []
  }
 ],
 "metadata": {
  "kernelspec": {
   "display_name": "Python 3 (ipykernel)",
   "language": "python",
   "name": "python3"
  },
  "language_info": {
   "codemirror_mode": {
    "name": "ipython",
    "version": 3
   },
   "file_extension": ".py",
   "mimetype": "text/x-python",
   "name": "python",
   "nbconvert_exporter": "python",
   "pygments_lexer": "ipython3",
   "version": "3.8.11"
  }
 },
 "nbformat": 4,
 "nbformat_minor": 5
}
