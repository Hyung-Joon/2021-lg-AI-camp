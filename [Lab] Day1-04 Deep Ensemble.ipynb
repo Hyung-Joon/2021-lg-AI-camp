{
 "cells": [
  {
   "cell_type": "code",
   "execution_count": 1,
   "id": "aebbd455",
   "metadata": {},
   "outputs": [],
   "source": [
    "import math\n",
    "\n",
    "import matplotlib.pyplot as plt\n",
    "import numpy as np\n",
    "import torch\n",
    "\n",
    "from src.DeepEnsemble.regression import EnsembleRegressor\n",
    "from src.utils import set_seed"
   ]
  },
  {
   "cell_type": "code",
   "execution_count": 104,
   "id": "cd38dd9b",
   "metadata": {},
   "outputs": [],
   "source": [
    "def get_xy(n_samples: int, eps: float = 1e-3, bound=[-4.0, 4.0]):\n",
    "    # sample y = x^3 + noise, noise ~ N(0, eps^2)\n",
    "    # The toy dataset used in the 'Deep ensemble' paper\n",
    "    x = np.random.uniform(low=bound[0], high=bound[1], size=(n_samples, 1))\n",
    "    x = torch.tensor(x).float()\n",
    "    y = x ** 3 + torch.randn(size=(n_samples, 1)) * eps\n",
    "    return x, y\n",
    "\n",
    "\n",
    "def draw_band(ax, x: float, mean: float, std: float, label: str,\n",
    "              z: float = 1.0, color='C0'):\n",
    "    ax.plot(x, mean, color=color, label='{} mean'.format(label))\n",
    "    ax.fill_between(x, mean - z * std, mean + z * std,\n",
    "                    alpha=0.2, color=color, label='{} CI'.format(label))"
   ]
  },
  {
   "cell_type": "code",
   "execution_count": 113,
   "id": "e3afe2f5",
   "metadata": {},
   "outputs": [],
   "source": [
    "# set random seeds; for reproducibility\n",
    "set_seed(1234, use_cuda=torch.cuda.is_available())\n",
    "eps = 1e-2\n",
    "bound = [-6.0, 6.0]\n",
    "train_val_ratio = 0.8\n",
    "n_samples = 32\n",
    "\n",
    "x, y = get_xy(n_samples=n_samples, eps=eps, bound=bound)\n",
    "n_train = math.ceil(x.shape[0] * train_val_ratio)\n",
    "train_x, train_y = x[:n_train, :], y[:n_train, :]\n",
    "val_x, val_y = x[n_train:, :], y[n_train:, :]"
   ]
  },
  {
   "cell_type": "code",
   "execution_count": 114,
   "id": "a59296bb",
   "metadata": {},
   "outputs": [],
   "source": [
    "MDN_INDIM = 64\n",
    "DEVICE = 'cuda:0'\n",
    "BATCH_SIZE = 64\n",
    "\n",
    "learner_config = {\n",
    "    'mlp_config': {'input_dim': 1,\n",
    "                   'output_dim': MDN_INDIM,\n",
    "                   'num_neurons': [],\n",
    "                   'out_act': 'ReLU'},\n",
    "    'mdn_config': {'input_dim': MDN_INDIM, 'output_dim': 1, 'num_gaussians': 1},\n",
    "    'opt_config': {'name': 'Adam', 'lr': 1e-1}\n",
    "}\n",
    "\n",
    "net = EnsembleRegressor(5, learner_config).to(DEVICE)\n",
    "\n",
    "train_data = (train_x, train_y)\n",
    "val_data = (val_x, val_y)"
   ]
  },
  {
   "cell_type": "code",
   "execution_count": 115,
   "id": "63e8b4a5",
   "metadata": {},
   "outputs": [],
   "source": [
    "fit_config = {\n",
    "    'parallel': False,\n",
    "    'batch_size': BATCH_SIZE,\n",
    "    'val_batch_size': n_samples,\n",
    "    'device': DEVICE,\n",
    "    'epochs': 128,\n",
    "    'validate_every': 30,\n",
    "    'adv_eps': (bound[1] - bound[0]) * 0.000\n",
    "}\n",
    "\n",
    "_ = net.fit(train_data=train_data,\n",
    "            fit_config=fit_config,\n",
    "            val_data=val_data)"
   ]
  },
  {
   "cell_type": "code",
   "execution_count": 116,
   "id": "fb6ff1de",
   "metadata": {
    "pycharm": {
     "name": "#%%\n"
    }
   },
   "outputs": [
    {
     "data": {
      "image/png": "[encoded data removed]",
      "text/plain": [
       "<Figure size 432x288 with 1 Axes>"
      ]
     },
     "metadata": {
      "needs_background": "light"
     },
     "output_type": "display_data"
    }
   ],
   "source": [
    "test_x = torch.linspace(-8.0, 8.0, 100).view(-1, 1)\n",
    "with torch.no_grad():\n",
    "    test_mu, test_sigma = net(test_x)\n",
    "\n",
    "fig, ax = plt.subplots(1, 1)\n",
    "ax.scatter(x, y, label='Sampled Points', color='C1')\n",
    "draw_band(ax, test_x.view(-1), test_mu.view(-1), test_sigma.view(-1), 'Predictive')\n",
    "ax.legend()\n",
    "plt.show()\n",
    "\n",
    "\n",
    "\n"
   ]
  }
 ],
 "metadata": {
  "kernelspec": {
   "display_name": "Python 3 (ipykernel)",
   "language": "python",
   "name": "python3"
  },
  "language_info": {
   "codemirror_mode": {
    "name": "ipython",
    "version": 3
   },
   "file_extension": ".py",
   "mimetype": "text/x-python",
   "name": "python",
   "nbconvert_exporter": "python",
   "pygments_lexer": "ipython3",
   "version": "3.8.11"
  }
 },
 "nbformat": 4,
 "nbformat_minor": 5
}