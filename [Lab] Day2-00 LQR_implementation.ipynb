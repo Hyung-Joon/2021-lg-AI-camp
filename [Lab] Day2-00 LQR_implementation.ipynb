{
 "cells": [
  {
   "cell_type": "code",
   "execution_count": 1,
   "id": "35aa5d42",
   "metadata": {},
   "outputs": [],
   "source": [
    "import random\n",
    "import torch\n",
    "import torch.nn as nn\n",
    "import numpy as np\n",
    "import matplotlib.pyplot as plt\n",
    "import sklearn.datasets as skl\n",
    "import torch.linalg as lin"
   ]
  },
  {
   "cell_type": "markdown",
   "id": "40e44d7e",
   "metadata": {},
   "source": [
    "# Implementation: Data Center temperature control"
   ]
  },
  {
   "cell_type": "markdown",
   "id": "02116a71",
   "metadata": {},
   "source": [
    "비즈니스 전체 영역에서의 언택트 환경이 확장됨에 따라 데이터 사용량이 급증하고 전세계적으로 대용량 데이터 관리를 위한 하이퍼스케일 데이터센터 건립이 증가하고 있습니다.\n",
    "\n",
    "데이터의 용량과 속도가 빠르게 증가함에 따라 서버의 처리량도 증가하고 온도 또한 높아집니다.\n",
    "서버의 온도 상승은 고장 및 성능 하락의 원인이 돼 이를 냉각시키는 과정이 필요하며 데이터센터 에너지 소비의 35% 이상이 서버 냉각에서 발생합니다.\n",
    "\n",
    "그래서 데이터 센터의 온도 제어를 LQR을 통해서 최적의 온도 trajectory와 action sequence를 구해보고자 합니다."
   ]
  },
  {
   "cell_type": "markdown",
   "id": "e443fd5a",
   "metadata": {},
   "source": [
    "편의상 데이터 센터의 온도는 선형적인 시스템에 의해서 가동이 되고 있다고 가정하고,\n",
    "최적의 온도 또한 0도로 가정을 하겠습니다.\n",
    "\n",
    "구역의 개수와 에어컨 개수를 각 3개로 예를 들자면 다음과 같이 시스템을 수식으로 나타낼 수 있습니다.\n",
    "(수식의 계수들은 미리 정해두었습니다)"
   ]
  },
  {
   "attachments": {
    "image-4.png": {
     "image/png": "[encoded data removed]"
    }
   },
   "cell_type": "markdown",
   "id": "e0c8eff2",
   "metadata": {},
   "source": [
    "![image-4.png](attachment:image-4.png)"
   ]
  },
  {
   "attachments": {
    "image-3.png": {
     "image/png": "[encoded data removed]"
    }
   },
   "cell_type": "markdown",
   "id": "1e66735b",
   "metadata": {},
   "source": [
    "![image-3.png](attachment:image-3.png)"
   ]
  },
  {
   "cell_type": "markdown",
   "id": "b45234dd",
   "metadata": {},
   "source": [
    "### coefficent\n",
    "\n",
    "$F_M $ : 기존 구역의 temperature가 유지(Maintain)되는 정도\n",
    "\n",
    "$F_r $ : 구역에서 다른 구역으로 temperature가 방출(Release)되는 비율\n",
    "\n",
    "$E_power $: 에어컨 성능(Power)의 정도\n",
    "\n",
    "$f_i $: i번째 구역에 외부로 부터 들어오는 열의 정도\n",
    "\n",
    "$I $: 항등행렬, 밑의 첨자는 항등행렬의 크기\n",
    "\n",
    "$t_c $: 현재 temperature에 대한 페널티 크기\n",
    "\n",
    "$e^{1}_{c},$ : 사용한 에너지에 대한 페널티 크기\n",
    "\n",
    "$ \\epsilon_{ij} $: i구역의 에어컨 제어가 j 구역에 미치는 영향 정도(random term)\n",
    "\n",
    "로 생각하시면 됩니다."
   ]
  },
  {
   "cell_type": "markdown",
   "id": "9beb493e",
   "metadata": {},
   "source": [
    "### Set coefficient"
   ]
  },
  {
   "cell_type": "code",
   "execution_count": 2,
   "id": "9759fb51",
   "metadata": {},
   "outputs": [],
   "source": [
    "# number of sector and airconditioner\n",
    "state_dim = 3\n",
    "action_dim = 3\n",
    "T = 20\n",
    "total_dim = state_dim + action_dim\n",
    "\n",
    "# matrix shape [(state_dim + action_dim) * (state_dim + action_dim)]\n",
    "C = torch.eye(n=state_dim + action_dim)\n",
    "\n",
    "# set t_c and e_c\n",
    "C[:state_dim, :state_dim] = C[:state_dim, :state_dim] * 10\n",
    "C[state_dim:, state_dim:] = C[state_dim:, state_dim:] * 5\n",
    "\n",
    "\n",
    "# matrix shape [(state_dim + action_dim), 1)]\n",
    "c = torch.zeros(size=(total_dim, 1))\n",
    "\n",
    "# matrix shape [state_dim * (state_dim + action_dim)]\n",
    "# set F_M, F_r, E_power, epsilon_ij\n",
    "F = torch.zeros(size=(state_dim, total_dim))\n",
    "for i in range(state_dim):\n",
    "    for j in range(state_dim):\n",
    "        if i != j:\n",
    "            F[i, j] = random.uniform(0, 1) / 10\n",
    "        else:\n",
    "            F[i, i] = 0.9\n",
    "for i in range(state_dim):\n",
    "    for j in range(action_dim):\n",
    "        if i != j:\n",
    "            F[i, state_dim + j] = - random.uniform(0, 1) / 10\n",
    "        else:\n",
    "            F[j, state_dim + j] = - random.uniform(0.5, 1)\n",
    "            \n",
    "# matrix shape[(state_dim, 1)]\n",
    "# set f_i\n",
    "f = torch.rand(size=(state_dim, 1))"
   ]
  },
  {
   "cell_type": "markdown",
   "id": "d79f209a",
   "metadata": {},
   "source": [
    "### initial temperature"
   ]
  },
  {
   "cell_type": "code",
   "execution_count": 3,
   "id": "96b79fce",
   "metadata": {},
   "outputs": [],
   "source": [
    "x0 = torch.ones(size=(state_dim, 1)) * 50"
   ]
  },
  {
   "cell_type": "markdown",
   "id": "e10fb4b9",
   "metadata": {},
   "source": [
    "### Check invertible"
   ]
  },
  {
   "cell_type": "code",
   "execution_count": 4,
   "id": "66e110a1",
   "metadata": {},
   "outputs": [
    {
     "name": "stderr",
     "output_type": "stream",
     "text": [
      "c:\\users\\hae1\\anaconda3\\envs\\mpc\\lib\\site-packages\\ipykernel_launcher.py:1: UserWarning: torch.matrix_rank is deprecated in favor of torch.linalg.matrix_rankand will be removed in a future PyTorch release. The parameter 'symmetric' was renamed in torch.linalg.matrix_rank to 'hermitian'. (Triggered internally at  ..\\aten\\src\\ATen\\native\\LinearAlgebra.cpp:438.)\n",
      "  \"\"\"Entry point for launching an IPython kernel.\n"
     ]
    },
    {
     "data": {
      "text/plain": [
       "tensor(True)"
      ]
     },
     "execution_count": 4,
     "metadata": {},
     "output_type": "execute_result"
    }
   ],
   "source": [
    "torch.matrix_rank(C) == total_dim"
   ]
  },
  {
   "cell_type": "markdown",
   "id": "87d5d431",
   "metadata": {},
   "source": [
    "# 직접 구현"
   ]
  },
  {
   "cell_type": "markdown",
   "id": "7a2545f3",
   "metadata": {},
   "source": [
    "### Usable functions\n",
    "\n",
    "torch.matmul: Matrix product of two tensors(행렬 곱)\n",
    "\n",
    "A.T: transpose matrix of A(전치행렬)\n",
    "\n",
    "torch.linalg.inv(A): inverse matrix of A(역행렬)\n",
    "\n",
    "torch.cat: Concatenates the given sequence of seq tensors in the given dimension(행렬 합치기)"
   ]
  },
  {
   "attachments": {
    "image.png": {
     "image/png": "[encoded data removed]"
    }
   },
   "cell_type": "markdown",
   "id": "eeb7f45b",
   "metadata": {},
   "source": [
    "### def calculate_Q\n",
    "\n",
    "![image.png](attachment:image.png)"
   ]
  },
  {
   "cell_type": "code",
   "execution_count": 5,
   "id": "5dcb5575",
   "metadata": {},
   "outputs": [],
   "source": [
    "def calculate_Q(C, c, F, f, V_t, v_t, state_dim, action_dim):\n",
    "\n",
    "    \"\"\"\n",
    "    input\n",
    "    C : torch.tensor() with shape(state_dim + action_dim, state_dim + action_dim)\n",
    "    c : torch.tensor() with shape(state_dim + action_dim, 1)\n",
    "    F : torch.tensor() with shape(state_dim, state_dim + action_dim)\n",
    "    f : torch.tensor() with shape(state_dim, 1)\n",
    "    V_t : torch.tensor() with shape(state_dim, state_dim)\n",
    "    v_t : torch.tensor() with shape(state_dim, 1)\n",
    "    return\n",
    "    Q_t : torch.tensor() with shape(state_dim + action_dim, state_dim + action_dim)\n",
    "    q_t : torch.tensor() with shape(state_dim + action_dim, 1)\n",
    "    \"\"\"\n",
    "    # -----------implementation------------\n",
    "    \n",
    "    \n",
    "    \n",
    "    \n",
    "    return Q_t, q_t"
   ]
  },
  {
   "attachments": {
    "image.png": {
     "image/png": "[encoded data removed]"
    }
   },
   "cell_type": "markdown",
   "id": "2bd763fa",
   "metadata": {},
   "source": [
    "### def calculate_V\n",
    "![image.png](attachment:image.png)"
   ]
  },
  {
   "cell_type": "code",
   "execution_count": 6,
   "id": "54e94b09",
   "metadata": {},
   "outputs": [],
   "source": [
    "def calculate_V(C, c, K_t, k_t, state_dim, action_dim):\n",
    "    \n",
    "    \"\"\"\n",
    "    input\n",
    "    C : torch.tensor() with shape(state_dim + action_dim, state_dim + action_dim)\n",
    "    c : torch.tensor() with shape(state_dim + action_dim, 1)\n",
    "    K_t : torch.tensor() with shape(action_dim, state_dim)\n",
    "    k_t : torch.tensor() with shape(action_dim, 1)\n",
    "    return\n",
    "    V_t : torch.tensor() with shape(state_dim, state_dim)\n",
    "    v_t : torch.tensor() with shape(state_dim, 1)\n",
    "    \"\"\"\n",
    "    # -----------implementation------------\n",
    "    \n",
    "    \n",
    "    \n",
    "    \n",
    "    \n",
    "    \n",
    "    return V_t, v_t"
   ]
  },
  {
   "attachments": {
    "image-2.png": {
     "image/png": "[encoded data removed]"
    }
   },
   "cell_type": "markdown",
   "id": "b9e66fdb",
   "metadata": {},
   "source": [
    "### def calculate_K\n",
    "![image-2.png](attachment:image-2.png)"
   ]
  },
  {
   "cell_type": "code",
   "execution_count": 7,
   "id": "a2e4299d",
   "metadata": {},
   "outputs": [],
   "source": [
    "def calculate_K(Q, q, state_dim, action_dim):\n",
    "    \"\"\"\n",
    "    input\n",
    "    Q : torch.tensor() with shape(state_dim + action_dim, state_dim + action_dim)\n",
    "    q : torch.tensor() with shape(state_dim + action_dim, 1)\n",
    "    return\n",
    "    K_t : torch.tensor() with shape(action_dim, state_dim)\n",
    "    k_t : torch.tensor() with shape(action_dim, 1)\n",
    "    \"\"\"\n",
    "    # -----------implementation------------\n",
    "\n",
    "    \n",
    "    \n",
    "    \n",
    "    \n",
    "    \n",
    "    return K_t, k_t"
   ]
  },
  {
   "attachments": {
    "image.png": {
     "image/png": "[encoded data removed]"
    }
   },
   "cell_type": "markdown",
   "id": "3f23e33d",
   "metadata": {},
   "source": [
    "### backward recursion\n",
    "![image.png](attachment:image.png)"
   ]
  },
  {
   "cell_type": "code",
   "execution_count": 8,
   "id": "bbeddf4b",
   "metadata": {},
   "outputs": [],
   "source": [
    "def backward_recursion(state_dim, action_dim, C, c, F, f, T):\n",
    "    \"\"\"\n",
    "    input\n",
    "    C : torch.tensor() with shape(state_dim + action_dim, state_dim + action_dim)\n",
    "    c : torch.tensor() with shape(state_dim + action_dim, 1)\n",
    "    F : torch.tensor() with shape(state_dim, state_dim + action_dim)\n",
    "    f : torch.tensor() with shape(state_dim, 1)\n",
    "    return\n",
    "    Large_Q : dictionary of Q_t\n",
    "    small_q : dictionary of q_t\n",
    "    Large_K : dictionary of K_t\n",
    "    small_k : dictionary of k_t\n",
    "    Large_V : dictionary of V_t\n",
    "    small_v : dictionary of v_t\n",
    "    \"\"\"\n",
    "    \n",
    "    # dictionary of K\n",
    "    Large_K = dict()\n",
    "    small_k = dict()\n",
    "\n",
    "    # dictionary of V\n",
    "    Large_V = dict()\n",
    "    small_v = dict()\n",
    "\n",
    "    # dictionary of Q\n",
    "    Large_Q = dict()\n",
    "    small_q = dict()\n",
    "    \n",
    "    \n",
    "    \"\"\"\n",
    "    calculate K, k, V, v at time T and save result at dictionary mentioned above\n",
    "    by using function calcualte V, K\n",
    "    \"\"\"\n",
    "    # -----------implementation------------\n",
    "\n",
    "    \n",
    "    \n",
    "    \n",
    "    \n",
    "    \n",
    "    \n",
    "    \n",
    "    \"\"\"\n",
    "    calculate Q, q, K, k, V, v,at time T-1 to 1 and save result at dictionary mentioned above with for loop\n",
    "    by using function calcualte V, K, Q\n",
    "    \"\"\"\n",
    "    # -----------implementation------------\n",
    "\n",
    "        \n",
    "        \n",
    "        \n",
    "        \n",
    "        \n",
    "        \n",
    "    return Large_Q, small_q, Large_K, small_k, Large_V, small_v"
   ]
  },
  {
   "attachments": {
    "image.png": {
     "image/png": "[encoded data removed]"
    }
   },
   "cell_type": "markdown",
   "id": "0f48e9ac",
   "metadata": {},
   "source": [
    "### def forward_recursion\n",
    "![image.png](attachment:image.png)"
   ]
  },
  {
   "cell_type": "code",
   "execution_count": 9,
   "id": "1dad61ad",
   "metadata": {},
   "outputs": [],
   "source": [
    "def forward_recursion(x0, Large_K, small_k, F, f, T):\n",
    "    \n",
    "    \"\"\"\n",
    "    input\n",
    "    F : torch.tensor() with shape(state_dim, state_dim + action_dim)\n",
    "    f : torch.tensor() with shape(state_dim, 1)\n",
    "    K : torch.tensor() with shape(action_dim, state_dim)\n",
    "    k : torch.tensor() with shape(action_dim, 1)\n",
    "    return\n",
    "    x_dict : dictionary of x\n",
    "    u_dict : dictionary of u\n",
    "    \"\"\"\n",
    "    \n",
    "    x_dict = dict()\n",
    "    u_dict = dict()\n",
    "    \n",
    "    x_dict[1] = x0\n",
    "    \n",
    "    \"\"\"\n",
    "    calculate x, u at time 1 to T-1 and save result at dictionary mentioned above with for loop\n",
    "    \"\"\"\n",
    "    # -----------implementation------------\n",
    "    \n",
    "    \n",
    "    \n",
    "    \n",
    "    \n",
    "    \n",
    "    \n",
    "        \n",
    "    return x_dict, u_dict"
   ]
  },
  {
   "cell_type": "code",
   "execution_count": 10,
   "id": "0e2b7dba",
   "metadata": {},
   "outputs": [],
   "source": [
    "Large_Q, small_q, Large_K, small_k, Large_V, small_v = backward_recursion(state_dim, action_dim, C, c, F, f, T)"
   ]
  },
  {
   "cell_type": "code",
   "execution_count": 11,
   "id": "8c1d7811",
   "metadata": {},
   "outputs": [],
   "source": [
    "x_dict, u_dict = forward_recursion(x0, Large_K, small_k, F, f, T)"
   ]
  },
  {
   "cell_type": "markdown",
   "id": "01ca04e8",
   "metadata": {},
   "source": [
    "## Plot temperature and energy trajectory"
   ]
  },
  {
   "cell_type": "markdown",
   "id": "4000630d",
   "metadata": {},
   "source": [
    "### Chagne x_dict to xs, u_dict to us for plotting"
   ]
  },
  {
   "cell_type": "code",
   "execution_count": 17,
   "id": "ec7a2d30",
   "metadata": {},
   "outputs": [],
   "source": [
    "\n",
    "def change_data(x_dict, u_dict, state_dim, action_dim):\n",
    "    '''\n",
    "    input\n",
    "    x_dict: dictionary of x, key is time, value is temperature at time\n",
    "    u_dict: dictionary of u, key is time, value is energy\n",
    "    '''\n",
    "    xs = dict()\n",
    "    for state in range(state_dim):\n",
    "        xs[state] = []\n",
    "    us = dict()\n",
    "    for action in range(action_dim):\n",
    "        us[action] = []\n",
    "\n",
    "    # -----------implementation--------------------------\n",
    "    \n",
    "    \n",
    "    \n",
    "    \n",
    "    \n",
    "    \n",
    "    return xs, us"
   ]
  },
  {
   "cell_type": "code",
   "execution_count": 18,
   "id": "a5663870",
   "metadata": {},
   "outputs": [],
   "source": [
    "xs, us = change_data(x_dict, u_dict, state_dim, action_dim)"
   ]
  },
  {
   "cell_type": "code",
   "execution_count": 19,
   "id": "627af839",
   "metadata": {},
   "outputs": [
    {
     "data": {
      "text/plain": [
       "Text(0.5, 1.0, 'Temperature')"
      ]
     },
     "execution_count": 19,
     "metadata": {},
     "output_type": "execute_result"
    },
    {
     "data": {
      "image/png": "[encoded data removed]",
      "text/plain": [
       "<Figure size 432x288 with 1 Axes>"
      ]
     },
     "metadata": {
      "needs_background": "light"
     },
     "output_type": "display_data"
    }
   ],
   "source": [
    "fig, ax = plt.subplots()\n",
    "\n",
    "for state in range(state_dim):\n",
    "    ax.plot(xs[state], label='Region {}'.format(state+1))\n",
    "\n",
    "# plt.legend([\"Region {}\" + str(i+1) for i in range(state_dim)])\n",
    "ax.legend()\n",
    "ax.set_title(\"Temperature\")"
   ]
  },
  {
   "cell_type": "code",
   "execution_count": 20,
   "id": "12ee3720",
   "metadata": {},
   "outputs": [
    {
     "data": {
      "text/plain": [
       "Text(0.5, 1.0, 'Energy')"
      ]
     },
     "execution_count": 20,
     "metadata": {},
     "output_type": "execute_result"
    },
    {
     "data": {
      "image/png": "[encoded data removed]",
      "text/plain": [
       "<Figure size 432x288 with 1 Axes>"
      ]
     },
     "metadata": {
      "needs_background": "light"
     },
     "output_type": "display_data"
    }
   ],
   "source": [
    "fig, ax = plt.subplots()\n",
    "\n",
    "for action in range(action_dim):\n",
    "    ax.plot(us[action], label='Air Con {}'.format(action+1))\n",
    "\n",
    "# plt.legend([\"Region {}\" + str(i+1) for i in range(state_dim)])\n",
    "ax.legend()\n",
    "ax.set_title(\"Energy\")"
   ]
  },
  {
   "cell_type": "code",
   "execution_count": null,
   "id": "b92919f3",
   "metadata": {},
   "outputs": [],
   "source": []
  },
  {
   "cell_type": "code",
   "execution_count": null,
   "id": "45e27db4",
   "metadata": {},
   "outputs": [],
   "source": []
  }
 ],
 "metadata": {
  "kernelspec": {
   "display_name": "Python 3",
   "language": "python",
   "name": "python3"
  },
  "language_info": {
   "codemirror_mode": {
    "name": "ipython",
    "version": 3
   },
   "file_extension": ".py",
   "mimetype": "text/x-python",
   "name": "python",
   "nbconvert_exporter": "python",
   "pygments_lexer": "ipython3",
   "version": "3.6.13"
  }
 },
 "nbformat": 4,
 "nbformat_minor": 5
}
